{
 "cells": [
  {
   "cell_type": "markdown",
   "metadata": {},
   "source": [
    "# RanCh (Integrative Analysis of RNA-Seq and ChIP-Seq Data)\n",
    "\n",
    "Tools\n",
    "\n",
    "    1. DESEQ2 - Differential Gene Expression Analysis\n",
    "    2. BETA - Integrative Analysis of RNA-Seq and ChIP-Seq Data"
   ]
  },
  {
   "cell_type": "markdown",
   "metadata": {},
   "source": [
    "## RNA-Seq"
   ]
  },
  {
   "cell_type": "code",
   "execution_count": 1,
   "metadata": {
    "vscode": {
     "languageId": "r"
    }
   },
   "outputs": [
    {
     "name": "stderr",
     "output_type": "stream",
     "text": [
      "Loading required package: S4Vectors\n",
      "\n",
      "Loading required package: stats4\n",
      "\n",
      "Loading required package: BiocGenerics\n",
      "\n",
      "\n",
      "Attaching package: ‘BiocGenerics’\n",
      "\n",
      "\n",
      "The following objects are masked from ‘package:stats’:\n",
      "\n",
      "    IQR, mad, sd, var, xtabs\n",
      "\n",
      "\n",
      "The following objects are masked from ‘package:base’:\n",
      "\n",
      "    anyDuplicated, aperm, append, as.data.frame, basename, cbind,\n",
      "    colnames, dirname, do.call, duplicated, eval, evalq, Filter, Find,\n",
      "    get, grep, grepl, intersect, is.unsorted, lapply, Map, mapply,\n",
      "    match, mget, order, paste, pmax, pmax.int, pmin, pmin.int,\n",
      "    Position, rank, rbind, Reduce, rownames, sapply, setdiff, sort,\n",
      "    table, tapply, union, unique, unsplit, which.max, which.min\n",
      "\n",
      "\n",
      "\n",
      "Attaching package: ‘S4Vectors’\n",
      "\n",
      "\n",
      "The following objects are masked from ‘package:base’:\n",
      "\n",
      "    expand.grid, I, unname\n",
      "\n",
      "\n",
      "Loading required package: IRanges\n",
      "\n",
      "Loading required package: GenomicRanges\n",
      "\n",
      "Loading required package: GenomeInfoDb\n",
      "\n",
      "Loading required package: SummarizedExperiment\n",
      "\n",
      "Loading required package: MatrixGenerics\n",
      "\n",
      "Loading required package: matrixStats\n",
      "\n",
      "\n",
      "Attaching package: ‘MatrixGenerics’\n",
      "\n",
      "\n",
      "The following objects are masked from ‘package:matrixStats’:\n",
      "\n",
      "    colAlls, colAnyNAs, colAnys, colAvgsPerRowSet, colCollapse,\n",
      "    colCounts, colCummaxs, colCummins, colCumprods, colCumsums,\n",
      "    colDiffs, colIQRDiffs, colIQRs, colLogSumExps, colMadDiffs,\n",
      "    colMads, colMaxs, colMeans2, colMedians, colMins, colOrderStats,\n",
      "    colProds, colQuantiles, colRanges, colRanks, colSdDiffs, colSds,\n",
      "    colSums2, colTabulates, colVarDiffs, colVars, colWeightedMads,\n",
      "    colWeightedMeans, colWeightedMedians, colWeightedSds,\n",
      "    colWeightedVars, rowAlls, rowAnyNAs, rowAnys, rowAvgsPerColSet,\n",
      "    rowCollapse, rowCounts, rowCummaxs, rowCummins, rowCumprods,\n",
      "    rowCumsums, rowDiffs, rowIQRDiffs, rowIQRs, rowLogSumExps,\n",
      "    rowMadDiffs, rowMads, rowMaxs, rowMeans2, rowMedians, rowMins,\n",
      "    rowOrderStats, rowProds, rowQuantiles, rowRanges, rowRanks,\n",
      "    rowSdDiffs, rowSds, rowSums2, rowTabulates, rowVarDiffs, rowVars,\n",
      "    rowWeightedMads, rowWeightedMeans, rowWeightedMedians,\n",
      "    rowWeightedSds, rowWeightedVars\n",
      "\n",
      "\n",
      "Loading required package: Biobase\n",
      "\n",
      "Welcome to Bioconductor\n",
      "\n",
      "    Vignettes contain introductory material; view with\n",
      "    'browseVignettes()'. To cite Bioconductor, see\n",
      "    'citation(\"Biobase\")', and for packages 'citation(\"pkgname\")'.\n",
      "\n",
      "\n",
      "\n",
      "Attaching package: ‘Biobase’\n",
      "\n",
      "\n",
      "The following object is masked from ‘package:MatrixGenerics’:\n",
      "\n",
      "    rowMedians\n",
      "\n",
      "\n",
      "The following objects are masked from ‘package:matrixStats’:\n",
      "\n",
      "    anyMissing, rowMedians\n",
      "\n",
      "\n",
      "\n",
      "Attaching package: ‘dplyr’\n",
      "\n",
      "\n",
      "The following object is masked from ‘package:Biobase’:\n",
      "\n",
      "    combine\n",
      "\n",
      "\n",
      "The following object is masked from ‘package:matrixStats’:\n",
      "\n",
      "    count\n",
      "\n",
      "\n",
      "The following objects are masked from ‘package:GenomicRanges’:\n",
      "\n",
      "    intersect, setdiff, union\n",
      "\n",
      "\n",
      "The following object is masked from ‘package:GenomeInfoDb’:\n",
      "\n",
      "    intersect\n",
      "\n",
      "\n",
      "The following objects are masked from ‘package:IRanges’:\n",
      "\n",
      "    collapse, desc, intersect, setdiff, slice, union\n",
      "\n",
      "\n",
      "The following objects are masked from ‘package:S4Vectors’:\n",
      "\n",
      "    first, intersect, rename, setdiff, setequal, union\n",
      "\n",
      "\n",
      "The following objects are masked from ‘package:BiocGenerics’:\n",
      "\n",
      "    combine, intersect, setdiff, union\n",
      "\n",
      "\n",
      "The following objects are masked from ‘package:stats’:\n",
      "\n",
      "    filter, lag\n",
      "\n",
      "\n",
      "The following objects are masked from ‘package:base’:\n",
      "\n",
      "    intersect, setdiff, setequal, union\n",
      "\n",
      "\n",
      "\n",
      "Attaching package: ‘tidyr’\n",
      "\n",
      "\n",
      "The following object is masked from ‘package:S4Vectors’:\n",
      "\n",
      "    expand\n",
      "\n",
      "\n"
     ]
    }
   ],
   "source": [
    "# Imports\n",
    "library(DESeq2)\n",
    "library(dplyr)\n",
    "library(stringr)\n",
    "library(tidyr)"
   ]
  },
  {
   "cell_type": "code",
   "execution_count": 4,
   "metadata": {
    "vscode": {
     "languageId": "r"
    }
   },
   "outputs": [],
   "source": [
    "# Upload Feature Count Matrix and Metadata\n",
    "countData <- read.csv(\"Analysis/E-GEOD-47399-raw-counts.tsv\", sep=\"\\t\", header=TRUE, row.names=1)\n",
    "metaData <- read.csv(\"Analysis/E-GEOD-47399-experiment-design.tsv\", sep=\"\\t\", header=TRUE, row.names=1)\n",
    "metaData <- metaData[match(colnames(countData), row.names(metaData)), ]"
   ]
  },
  {
   "cell_type": "code",
   "execution_count": 6,
   "metadata": {
    "vscode": {
     "languageId": "r"
    }
   },
   "outputs": [
    {
     "data": {
      "text/html": [
       "<style>\n",
       ".list-inline {list-style: none; margin:0; padding: 0}\n",
       ".list-inline>li {display: inline-block}\n",
       ".list-inline>li:not(:last-child)::after {content: \"\\00b7\"; padding: 0 .5ex}\n",
       "</style>\n",
       "<ol class=list-inline><li>'Sample.Characteristic.RNA.interference.'</li><li>'Sample.Characteristic.Ontology.Term.RNA.interference.'</li><li>'Sample.Characteristic.cell.line.'</li><li>'Sample.Characteristic.Ontology.Term.cell.line.'</li><li>'Sample.Characteristic.organism.'</li><li>'Sample.Characteristic.Ontology.Term.organism.'</li><li>'Sample.Characteristic.passage.'</li><li>'Sample.Characteristic.Ontology.Term.passage.'</li><li>'Sample.Characteristic.phenotype.'</li><li>'Sample.Characteristic.Ontology.Term.phenotype.'</li><li>'Factor.Value.phenotype.'</li><li>'Factor.Value.Ontology.Term.phenotype.'</li><li>'Analysed'</li></ol>\n"
      ],
      "text/latex": [
       "\\begin{enumerate*}\n",
       "\\item 'Sample.Characteristic.RNA.interference.'\n",
       "\\item 'Sample.Characteristic.Ontology.Term.RNA.interference.'\n",
       "\\item 'Sample.Characteristic.cell.line.'\n",
       "\\item 'Sample.Characteristic.Ontology.Term.cell.line.'\n",
       "\\item 'Sample.Characteristic.organism.'\n",
       "\\item 'Sample.Characteristic.Ontology.Term.organism.'\n",
       "\\item 'Sample.Characteristic.passage.'\n",
       "\\item 'Sample.Characteristic.Ontology.Term.passage.'\n",
       "\\item 'Sample.Characteristic.phenotype.'\n",
       "\\item 'Sample.Characteristic.Ontology.Term.phenotype.'\n",
       "\\item 'Factor.Value.phenotype.'\n",
       "\\item 'Factor.Value.Ontology.Term.phenotype.'\n",
       "\\item 'Analysed'\n",
       "\\end{enumerate*}\n"
      ],
      "text/markdown": [
       "1. 'Sample.Characteristic.RNA.interference.'\n",
       "2. 'Sample.Characteristic.Ontology.Term.RNA.interference.'\n",
       "3. 'Sample.Characteristic.cell.line.'\n",
       "4. 'Sample.Characteristic.Ontology.Term.cell.line.'\n",
       "5. 'Sample.Characteristic.organism.'\n",
       "6. 'Sample.Characteristic.Ontology.Term.organism.'\n",
       "7. 'Sample.Characteristic.passage.'\n",
       "8. 'Sample.Characteristic.Ontology.Term.passage.'\n",
       "9. 'Sample.Characteristic.phenotype.'\n",
       "10. 'Sample.Characteristic.Ontology.Term.phenotype.'\n",
       "11. 'Factor.Value.phenotype.'\n",
       "12. 'Factor.Value.Ontology.Term.phenotype.'\n",
       "13. 'Analysed'\n",
       "\n",
       "\n"
      ],
      "text/plain": [
       " [1] \"Sample.Characteristic.RNA.interference.\"              \n",
       " [2] \"Sample.Characteristic.Ontology.Term.RNA.interference.\"\n",
       " [3] \"Sample.Characteristic.cell.line.\"                     \n",
       " [4] \"Sample.Characteristic.Ontology.Term.cell.line.\"       \n",
       " [5] \"Sample.Characteristic.organism.\"                      \n",
       " [6] \"Sample.Characteristic.Ontology.Term.organism.\"        \n",
       " [7] \"Sample.Characteristic.passage.\"                       \n",
       " [8] \"Sample.Characteristic.Ontology.Term.passage.\"         \n",
       " [9] \"Sample.Characteristic.phenotype.\"                     \n",
       "[10] \"Sample.Characteristic.Ontology.Term.phenotype.\"       \n",
       "[11] \"Factor.Value.phenotype.\"                              \n",
       "[12] \"Factor.Value.Ontology.Term.phenotype.\"                \n",
       "[13] \"Analysed\"                                             "
      ]
     },
     "metadata": {},
     "output_type": "display_data"
    }
   ],
   "source": [
    "colnames(metaData)"
   ]
  },
  {
   "cell_type": "code",
   "execution_count": 10,
   "metadata": {
    "vscode": {
     "languageId": "r"
    }
   },
   "outputs": [
    {
     "name": "stderr",
     "output_type": "stream",
     "text": [
      "Warning message in DESeqDataSet(se, design = design, ignoreRank):\n",
      "“some variables in design formula are characters, converting to factors”\n",
      "  Note: levels of factors in the design contain characters other than\n",
      "  letters, numbers, '_' and '.'. It is recommended (but not required) to use\n",
      "  only letters, numbers, and delimiters '_' or '.', as these are safe characters\n",
      "  for column names in R. [This is a message, not a warning or an error]\n",
      "\n",
      "estimating size factors\n",
      "\n",
      "  Note: levels of factors in the design contain characters other than\n",
      "  letters, numbers, '_' and '.'. It is recommended (but not required) to use\n",
      "  only letters, numbers, and delimiters '_' or '.', as these are safe characters\n",
      "  for column names in R. [This is a message, not a warning or an error]\n",
      "\n",
      "estimating dispersions\n",
      "\n",
      "gene-wise dispersion estimates\n",
      "\n",
      "mean-dispersion relationship\n",
      "\n",
      "  Note: levels of factors in the design contain characters other than\n",
      "  letters, numbers, '_' and '.'. It is recommended (but not required) to use\n",
      "  only letters, numbers, and delimiters '_' or '.', as these are safe characters\n",
      "  for column names in R. [This is a message, not a warning or an error]\n",
      "\n",
      "final dispersion estimates\n",
      "\n",
      "  Note: levels of factors in the design contain characters other than\n",
      "  letters, numbers, '_' and '.'. It is recommended (but not required) to use\n",
      "  only letters, numbers, and delimiters '_' or '.', as these are safe characters\n",
      "  for column names in R. [This is a message, not a warning or an error]\n",
      "\n",
      "fitting model and testing\n",
      "\n"
     ]
    }
   ],
   "source": [
    "# Create DESEq2 Object\n",
    "dds <- DESeqDataSetFromMatrix(countData = countData, colData = metaData, design = ~Factor.Value.phenotype.)\n",
    "dds <- DESeq(dds)"
   ]
  },
  {
   "cell_type": "code",
   "execution_count": 11,
   "metadata": {
    "vscode": {
     "languageId": "r"
    }
   },
   "outputs": [],
   "source": [
    "res <- results(dds)\n",
    "resdf <- as.data.frame(res)\n",
    "colnames(resdf) <- c(\"baseMean\", \"log2FoldChange\", \"lfcSE\", \"stat\", \"pvalue\", \"padj\")\n",
    "resdf <- resdf[c(\"log2FoldChange\", \"pvalue\")]"
   ]
  },
  {
   "cell_type": "code",
   "execution_count": 29,
   "metadata": {
    "vscode": {
     "languageId": "r"
    }
   },
   "outputs": [],
   "source": [
    "# Remove the rows with NA values\n",
    "resdf <- na.omit(resdf)\n",
    "\n",
    "# Filter the results based on the pvalue and log2FoldChange\n",
    "resdf <- resdf[which(resdf$pvalue < 0.05), ]\n",
    "resdf <- resdf[which(abs(resdf$log2FoldChange) > 1), ]\n",
    "\n",
    "# Write the results to a file\n",
    "write.table(resdf, file = paste0('Analysis/BETA_Demo/results.csv'), sep = '\\t',col.names = FALSE)"
   ]
  },
  {
   "cell_type": "markdown",
   "metadata": {},
   "source": [
    "## Integration with ChIP-Seq"
   ]
  },
  {
   "cell_type": "code",
   "execution_count": 39,
   "metadata": {
    "vscode": {
     "languageId": "r"
    }
   },
   "outputs": [
    {
     "name": "stderr",
     "output_type": "stream",
     "text": [
      "Warning message in system(\"/home/shrey/miniconda3/envs/beta/bin/BETA basic -p Analysis/MAX_HeLa_S3_chip_seq.bed -e Analysis/BETA_Demo/results.csv -g hg38 -k BSF -n demo -o Analysis/BETA_Demo --gname2 -c 0.05\", :\n",
      "“running command '/home/shrey/miniconda3/envs/beta/bin/BETA basic -p Analysis/MAX_HeLa_S3_chip_seq.bed -e Analysis/BETA_Demo/results.csv -g hg38 -k BSF -n demo -o Analysis/BETA_Demo --gname2 -c 0.05' had status 1”\n"
     ]
    },
    {
     "data": {
      "text/html": [
       "<style>\n",
       ".list-inline {list-style: none; margin:0; padding: 0}\n",
       ".list-inline>li {display: inline-block}\n",
       ".list-inline>li:not(:last-child)::after {content: \"\\00b7\"; padding: 0 .5ex}\n",
       "</style>\n",
       "<ol class=list-inline><li>'[01:57:14] Argument List: '</li><li>'[01:57:14] Name = demo'</li><li>'[01:57:14] Peak File = Analysis/MAX_HeLa_S3_chip_seq.bed'</li><li>'[01:57:14] Top Peaks Number = 10000'</li><li>'[01:57:14] Distance = 100000 bp'</li><li>'[01:57:14] Genome = hg38'</li><li>'[01:57:14] Expression File = Analysis/BETA_Demo/results.csv'</li><li>'[01:57:14] BETA specific Expression Type'</li><li>'[01:57:14] Number of differential expressed genes = 0.5'</li><li>'[01:57:14] Differential expressed gene FDR Threshold = 1'</li><li>'[01:57:14] Up/Down Prediction Cutoff = 0.050000'</li><li>'[01:57:14] Function prediction based on regulatory potential'</li><li>'[01:57:14] Check Analysis/MAX_HeLa_S3_chip_seq.bed successfully!'</li><li>'[01:57:14] \"CD38\"\\t-2.05480357219086\\t0.00101462218877279'</li><li>' is not the header of the expression file'</li><li>'[01:57:14] Checking the differential expression infomation...'</li><li>'[01:57:14] Take the first line with Differential Information as an example: \"CD38\"\\t-2.05480357219086\\t0.00101462218877279'</li><li>''</li><li>'[01:57:14] Differential Expression file format successful passed'</li><li>'[01:57:14] You do not like filter peak by CFCT boundary, it will be filtered only by the distance'</li><li>'[01:57:14] Read file &lt;Analysis/MAX_HeLa_S3_chip_seq.bed&gt; OK! All &lt;10000&gt; peaks.'</li><li>'[01:57:19] Process &lt;51276&gt; genes'</li><li>'[01:57:28] Finished! Preliminary results saved into temporary file: &lt;demo.txt&gt;'</li><li>'[238, 508]'</li><li>'[01:57:28] Genes were seprated to two parts: up regulated and down regulated.'</li><li>'[01:57:28] Prepare file for the Up/Down Test'</li><li>'[01:57:28] Finished, Find the result in demo_function_prediction.pdf'</li></ol>\n"
      ],
      "text/latex": [
       "\\begin{enumerate*}\n",
       "\\item '{[}01:57:14{]} Argument List: '\n",
       "\\item '{[}01:57:14{]} Name = demo'\n",
       "\\item '{[}01:57:14{]} Peak File = Analysis/MAX\\_HeLa\\_S3\\_chip\\_seq.bed'\n",
       "\\item '{[}01:57:14{]} Top Peaks Number = 10000'\n",
       "\\item '{[}01:57:14{]} Distance = 100000 bp'\n",
       "\\item '{[}01:57:14{]} Genome = hg38'\n",
       "\\item '{[}01:57:14{]} Expression File = Analysis/BETA\\_Demo/results.csv'\n",
       "\\item '{[}01:57:14{]} BETA specific Expression Type'\n",
       "\\item '{[}01:57:14{]} Number of differential expressed genes = 0.5'\n",
       "\\item '{[}01:57:14{]} Differential expressed gene FDR Threshold = 1'\n",
       "\\item '{[}01:57:14{]} Up/Down Prediction Cutoff = 0.050000'\n",
       "\\item '{[}01:57:14{]} Function prediction based on regulatory potential'\n",
       "\\item '{[}01:57:14{]} Check Analysis/MAX\\_HeLa\\_S3\\_chip\\_seq.bed successfully!'\n",
       "\\item '{[}01:57:14{]} \"CD38\"\\textbackslash{}t-2.05480357219086\\textbackslash{}t0.00101462218877279'\n",
       "\\item ' is not the header of the expression file'\n",
       "\\item '{[}01:57:14{]} Checking the differential expression infomation...'\n",
       "\\item '{[}01:57:14{]} Take the first line with Differential Information as an example: \"CD38\"\\textbackslash{}t-2.05480357219086\\textbackslash{}t0.00101462218877279'\n",
       "\\item ''\n",
       "\\item '{[}01:57:14{]} Differential Expression file format successful passed'\n",
       "\\item '{[}01:57:14{]} You do not like filter peak by CFCT boundary, it will be filtered only by the distance'\n",
       "\\item '{[}01:57:14{]} Read file <Analysis/MAX\\_HeLa\\_S3\\_chip\\_seq.bed> OK! All <10000> peaks.'\n",
       "\\item '{[}01:57:19{]} Process <51276> genes'\n",
       "\\item '{[}01:57:28{]} Finished! Preliminary results saved into temporary file: <demo.txt>'\n",
       "\\item '{[}238, 508{]}'\n",
       "\\item '{[}01:57:28{]} Genes were seprated to two parts: up regulated and down regulated.'\n",
       "\\item '{[}01:57:28{]} Prepare file for the Up/Down Test'\n",
       "\\item '{[}01:57:28{]} Finished, Find the result in demo\\_function\\_prediction.pdf'\n",
       "\\end{enumerate*}\n"
      ],
      "text/markdown": [
       "1. '[01:57:14] Argument List: '\n",
       "2. '[01:57:14] Name = demo'\n",
       "3. '[01:57:14] Peak File = Analysis/MAX_HeLa_S3_chip_seq.bed'\n",
       "4. '[01:57:14] Top Peaks Number = 10000'\n",
       "5. '[01:57:14] Distance = 100000 bp'\n",
       "6. '[01:57:14] Genome = hg38'\n",
       "7. '[01:57:14] Expression File = Analysis/BETA_Demo/results.csv'\n",
       "8. '[01:57:14] BETA specific Expression Type'\n",
       "9. '[01:57:14] Number of differential expressed genes = 0.5'\n",
       "10. '[01:57:14] Differential expressed gene FDR Threshold = 1'\n",
       "11. '[01:57:14] Up/Down Prediction Cutoff = 0.050000'\n",
       "12. '[01:57:14] Function prediction based on regulatory potential'\n",
       "13. '[01:57:14] Check Analysis/MAX_HeLa_S3_chip_seq.bed successfully!'\n",
       "14. '[01:57:14] \"CD38\"\\t-2.05480357219086\\t0.00101462218877279'\n",
       "15. ' is not the header of the expression file'\n",
       "16. '[01:57:14] Checking the differential expression infomation...'\n",
       "17. '[01:57:14] Take the first line with Differential Information as an example: \"CD38\"\\t-2.05480357219086\\t0.00101462218877279'\n",
       "18. ''\n",
       "19. '[01:57:14] Differential Expression file format successful passed'\n",
       "20. '[01:57:14] You do not like filter peak by CFCT boundary, it will be filtered only by the distance'\n",
       "21. '[01:57:14] Read file &lt;Analysis/MAX_HeLa_S3_chip_seq.bed&gt; OK! All &lt;10000&gt; peaks.'\n",
       "22. '[01:57:19] Process &lt;51276&gt; genes'\n",
       "23. '[01:57:28] Finished! Preliminary results saved into temporary file: &lt;demo.txt&gt;'\n",
       "24. '[238, 508]'\n",
       "25. '[01:57:28] Genes were seprated to two parts: up regulated and down regulated.'\n",
       "26. '[01:57:28] Prepare file for the Up/Down Test'\n",
       "27. '[01:57:28] Finished, Find the result in demo_function_prediction.pdf'\n",
       "\n",
       "\n"
      ],
      "text/plain": [
       " [1] \"[01:57:14] Argument List: \"                                                                                                  \n",
       " [2] \"[01:57:14] Name = demo\"                                                                                                      \n",
       " [3] \"[01:57:14] Peak File = Analysis/MAX_HeLa_S3_chip_seq.bed\"                                                                    \n",
       " [4] \"[01:57:14] Top Peaks Number = 10000\"                                                                                         \n",
       " [5] \"[01:57:14] Distance = 100000 bp\"                                                                                             \n",
       " [6] \"[01:57:14] Genome = hg38\"                                                                                                    \n",
       " [7] \"[01:57:14] Expression File = Analysis/BETA_Demo/results.csv\"                                                                 \n",
       " [8] \"[01:57:14] BETA specific Expression Type\"                                                                                    \n",
       " [9] \"[01:57:14] Number of differential expressed genes = 0.5\"                                                                     \n",
       "[10] \"[01:57:14] Differential expressed gene FDR Threshold = 1\"                                                                    \n",
       "[11] \"[01:57:14] Up/Down Prediction Cutoff = 0.050000\"                                                                             \n",
       "[12] \"[01:57:14] Function prediction based on regulatory potential\"                                                                \n",
       "[13] \"[01:57:14] Check Analysis/MAX_HeLa_S3_chip_seq.bed successfully!\"                                                            \n",
       "[14] \"[01:57:14] \\\"CD38\\\"\\t-2.05480357219086\\t0.00101462218877279\"                                                                 \n",
       "[15] \" is not the header of the expression file\"                                                                                   \n",
       "[16] \"[01:57:14] Checking the differential expression infomation...\"                                                               \n",
       "[17] \"[01:57:14] Take the first line with Differential Information as an example: \\\"CD38\\\"\\t-2.05480357219086\\t0.00101462218877279\"\n",
       "[18] \"\"                                                                                                                            \n",
       "[19] \"[01:57:14] Differential Expression file format successful passed\"                                                            \n",
       "[20] \"[01:57:14] You do not like filter peak by CFCT boundary, it will be filtered only by the distance\"                           \n",
       "[21] \"[01:57:14] Read file <Analysis/MAX_HeLa_S3_chip_seq.bed> OK! All <10000> peaks.\"                                             \n",
       "[22] \"[01:57:19] Process <51276> genes\"                                                                                            \n",
       "[23] \"[01:57:28] Finished! Preliminary results saved into temporary file: <demo.txt>\"                                              \n",
       "[24] \"[238, 508]\"                                                                                                                  \n",
       "[25] \"[01:57:28] Genes were seprated to two parts: up regulated and down regulated.\"                                               \n",
       "[26] \"[01:57:28] Prepare file for the Up/Down Test\"                                                                                \n",
       "[27] \"[01:57:28] Finished, Find the result in demo_function_prediction.pdf\"                                                        \n",
       "attr(,\"status\")\n",
       "[1] 1\n",
       "attr(,\"errmsg\")\n",
       "[1] \"Resource temporarily unavailable\""
      ]
     },
     "metadata": {},
     "output_type": "display_data"
    }
   ],
   "source": [
    "system('/home/shrey/miniconda3/envs/beta/bin/BETA basic -p Analysis/MAX_HeLa_S3_chip_seq.bed -e Analysis/BETA_Demo/results.csv -g hg38 -k BSF -n demo -o Analysis/BETA_Demo --gname2 -c 0.05', intern = TRUE)"
   ]
  }
 ],
 "metadata": {
  "kernelspec": {
   "display_name": "R",
   "language": "R",
   "name": "ir"
  },
  "language_info": {
   "codemirror_mode": "r",
   "file_extension": ".r",
   "mimetype": "text/x-r-source",
   "name": "R",
   "pygments_lexer": "r",
   "version": "4.2.0"
  },
  "orig_nbformat": 4
 },
 "nbformat": 4,
 "nbformat_minor": 2
}
