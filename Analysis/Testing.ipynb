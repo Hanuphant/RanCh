{
 "cells": [
  {
   "cell_type": "code",
   "execution_count": 4,
   "metadata": {
    "vscode": {
     "languageId": "r"
    }
   },
   "outputs": [],
   "source": [
    "res <- read.csv(\"/home/shrey/ENCODE2/team5/jobs/sampleid/results.csv\", header = TRUE, sep = ',')\n",
    "colnames(res) <- c(\"GeneName\", \"log2FoldChange\", \"pvalue\")\n",
    "write.csv(res, file = \"/home/shrey/ENCODE2/team5/jobs/sampleid/results.csv\", row.names = FALSE)"
   ]
  },
  {
   "cell_type": "code",
   "execution_count": 6,
   "metadata": {
    "vscode": {
     "languageId": "r"
    }
   },
   "outputs": [],
   "source": []
  },
  {
   "cell_type": "code",
   "execution_count": 7,
   "metadata": {
    "vscode": {
     "languageId": "r"
    }
   },
   "outputs": [
    {
     "data": {
      "text/html": [
       "<table class=\"dataframe\">\n",
       "<caption>A data.frame: 6 × 3</caption>\n",
       "<thead>\n",
       "\t<tr><th></th><th scope=col>Gene Name</th><th scope=col>log2FoldChange</th><th scope=col>pvalue</th></tr>\n",
       "\t<tr><th></th><th scope=col>&lt;chr&gt;</th><th scope=col>&lt;dbl&gt;</th><th scope=col>&lt;dbl&gt;</th></tr>\n",
       "</thead>\n",
       "<tbody>\n",
       "\t<tr><th scope=row>1</th><td>TSPAN6  </td><td>-0.20897232</td><td>0.011954620</td></tr>\n",
       "\t<tr><th scope=row>2</th><td>TNMD    </td><td> 0.91721724</td><td>0.784306124</td></tr>\n",
       "\t<tr><th scope=row>3</th><td>DPM1    </td><td> 0.06523609</td><td>0.514551924</td></tr>\n",
       "\t<tr><th scope=row>4</th><td>SCYL3   </td><td>-0.38346332</td><td>0.008929202</td></tr>\n",
       "\t<tr><th scope=row>5</th><td>C1orf112</td><td>-0.04816348</td><td>0.668308938</td></tr>\n",
       "\t<tr><th scope=row>6</th><td>FGR     </td><td> 0.31110621</td><td>0.876770002</td></tr>\n",
       "</tbody>\n",
       "</table>\n"
      ],
      "text/latex": [
       "A data.frame: 6 × 3\n",
       "\\begin{tabular}{r|lll}\n",
       "  & Gene Name & log2FoldChange & pvalue\\\\\n",
       "  & <chr> & <dbl> & <dbl>\\\\\n",
       "\\hline\n",
       "\t1 & TSPAN6   & -0.20897232 & 0.011954620\\\\\n",
       "\t2 & TNMD     &  0.91721724 & 0.784306124\\\\\n",
       "\t3 & DPM1     &  0.06523609 & 0.514551924\\\\\n",
       "\t4 & SCYL3    & -0.38346332 & 0.008929202\\\\\n",
       "\t5 & C1orf112 & -0.04816348 & 0.668308938\\\\\n",
       "\t6 & FGR      &  0.31110621 & 0.876770002\\\\\n",
       "\\end{tabular}\n"
      ],
      "text/markdown": [
       "\n",
       "A data.frame: 6 × 3\n",
       "\n",
       "| <!--/--> | Gene Name &lt;chr&gt; | log2FoldChange &lt;dbl&gt; | pvalue &lt;dbl&gt; |\n",
       "|---|---|---|---|\n",
       "| 1 | TSPAN6   | -0.20897232 | 0.011954620 |\n",
       "| 2 | TNMD     |  0.91721724 | 0.784306124 |\n",
       "| 3 | DPM1     |  0.06523609 | 0.514551924 |\n",
       "| 4 | SCYL3    | -0.38346332 | 0.008929202 |\n",
       "| 5 | C1orf112 | -0.04816348 | 0.668308938 |\n",
       "| 6 | FGR      |  0.31110621 | 0.876770002 |\n",
       "\n"
      ],
      "text/plain": [
       "  Gene Name log2FoldChange pvalue     \n",
       "1 TSPAN6    -0.20897232    0.011954620\n",
       "2 TNMD       0.91721724    0.784306124\n",
       "3 DPM1       0.06523609    0.514551924\n",
       "4 SCYL3     -0.38346332    0.008929202\n",
       "5 C1orf112  -0.04816348    0.668308938\n",
       "6 FGR        0.31110621    0.876770002"
      ]
     },
     "metadata": {},
     "output_type": "display_data"
    }
   ],
   "source": []
  }
 ],
 "metadata": {
  "kernelspec": {
   "display_name": "R",
   "language": "R",
   "name": "ir"
  },
  "language_info": {
   "codemirror_mode": "r",
   "file_extension": ".r",
   "mimetype": "text/x-r-source",
   "name": "R",
   "pygments_lexer": "r",
   "version": "4.2.0"
  },
  "orig_nbformat": 4
 },
 "nbformat": 4,
 "nbformat_minor": 2
}
